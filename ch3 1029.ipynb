{
 "cells": [
  {
   "cell_type": "code",
   "execution_count": 1,
   "metadata": {},
   "outputs": [
    {
     "name": "stdout",
     "output_type": "stream",
     "text": [
      "Please enter height:23.5\n",
      "Please enter weight:19\n",
      "446.5\n",
      "85.0\n"
     ]
    }
   ],
   "source": [
    "height=eval(input(\"Please enter height:\"))\n",
    "weight=eval(input(\"Please enter weight:\"))\n",
    "area=height*weight\n",
    "per=(height+weight)*2\n",
    "print(area)\n",
    "print(per)"
   ]
  },
  {
   "cell_type": "code",
   "execution_count": 2,
   "metadata": {},
   "outputs": [
    {
     "name": "stdout",
     "output_type": "stream",
     "text": [
      "Please enter height:23.5\n",
      "Please enter weight:19\n",
      "446.5\n",
      "21.25\n"
     ]
    }
   ],
   "source": [
    "height=eval(input(\"Please enter height:\"))\n",
    "weight=eval(input(\"Please enter weight:\"))\n",
    "area=height*weight\n",
    "per=(height+weight)/2\n",
    "print(area)\n",
    "print(per)"
   ]
  },
  {
   "cell_type": "code",
   "execution_count": 5,
   "metadata": {},
   "outputs": [
    {
     "name": "stdout",
     "output_type": "stream",
     "text": [
      "Please enter side lenght:3\n",
      "2.598076211353316\n",
      "3.8971143170299736\n"
     ]
    }
   ],
   "source": [
    "s=eval(input('Please enter side lenght:'))\n",
    "height=s*(3**0.5/2)\n",
    "area=(s*s)*(3**0.5/4)\n",
    "print(height)\n",
    "print(area)"
   ]
  },
  {
   "cell_type": "code",
   "execution_count": null,
   "metadata": {},
   "outputs": [],
   "source": []
  },
  {
   "cell_type": "code",
   "execution_count": null,
   "metadata": {},
   "outputs": [],
   "source": []
  },
  {
   "cell_type": "code",
   "execution_count": 1,
   "metadata": {},
   "outputs": [
    {
     "name": "stdout",
     "output_type": "stream",
     "text": [
      "Enter the minutes:5\n",
      "Enter the second:15\n",
      "Enter the kilometer:3.2\n",
      "22.857142857142858\n"
     ]
    }
   ],
   "source": [
    "x=eval(input('Enter the minutes:'))\n",
    "y=eval(input('Enter the second:'))\n",
    "z=eval(input('Enter the kilometer:'))\n",
    "speed=(z/1.6)/((x*60+y)/3600)\n",
    "print(speed)"
   ]
  },
  {
   "cell_type": "code",
   "execution_count": 3,
   "metadata": {},
   "outputs": [
    {
     "name": "stdout",
     "output_type": "stream",
     "text": [
      "Enter the miles:3\n",
      "4.800000000000001\n"
     ]
    }
   ],
   "source": [
    "x=eval(input(\"Enter the miles:\"))\n",
    "km=1.6*x\n",
    "print(km)"
   ]
  },
  {
   "cell_type": "code",
   "execution_count": 1,
   "metadata": {},
   "outputs": [
    {
     "name": "stdout",
     "output_type": "stream",
     "text": [
      "enter the temp:95\n",
      "35.0\n"
     ]
    }
   ],
   "source": [
    "F=eval(input('enter the temp:'))\n",
    "C=(F-32)*5/9\n",
    "print(C)"
   ]
  },
  {
   "cell_type": "code",
   "execution_count": 2,
   "metadata": {},
   "outputs": [
    {
     "name": "stdout",
     "output_type": "stream",
     "text": [
      "Enter the numbers:100,200,300\n",
      "600\n",
      "200.0\n"
     ]
    }
   ],
   "source": [
    "num1,num2,num3=eval(input('Enter the numbers:'))\n",
    "total=num1+num2+num3\n",
    "average=total/3\n",
    "print(total)\n",
    "print(average)"
   ]
  },
  {
   "cell_type": "markdown",
   "metadata": {},
   "source": []
  },
  {
   "cell_type": "code",
   "execution_count": 12,
   "metadata": {},
   "outputs": [
    {
     "name": "stdout",
     "output_type": "stream",
     "text": [
      "Please enter str.:Jackson\n",
      "Please enter int.:15625\n",
      "Please enter str.:American\n",
      "Jackson\n",
      "15625\n",
      "American\n"
     ]
    }
   ],
   "source": [
    "name=str(input('Please enter str.:'))\n",
    "sm=eval(input('Please enter int.:'))\n",
    "add=str(input('Please enter str.:'))\n",
    "print(name)\n",
    "print(sm)\n",
    "print(add)"
   ]
  },
  {
   "cell_type": "raw",
   "metadata": {},
   "source": [
    "x=eval(input('Enter the minutes:'))\n",
    "y=eval(input('Enter the second:'))\n",
    "z=eval(input('Enter the kilometer:'))\n",
    "speed=(z/1.6)/((x*60+y)/3600)\n",
    "print(speed)"
   ]
  },
  {
   "cell_type": "code",
   "execution_count": 13,
   "metadata": {},
   "outputs": [
    {
     "name": "stdout",
     "output_type": "stream",
     "text": [
      "Enter the minutes:10\n",
      "Enter the second:25\n",
      "Enter the kilometer:3\n",
      "10.8\n"
     ]
    }
   ],
   "source": [
    "x=eval(input('Enter the minutes:'))\n",
    "y=eval(input('Enter the second:'))\n",
    "z=eval(input('Enter the kilometer:'))\n",
    "speed=(z/1.6)/((x*60+y)/3600)\n",
    "print(speed)"
   ]
  },
  {
   "cell_type": "code",
   "execution_count": 17,
   "metadata": {},
   "outputs": [
    {
     "name": "stdout",
     "output_type": "stream",
     "text": [
      "Enter the radius:5\n",
      "78.53981633974483\n",
      "31.41592653589793\n"
     ]
    }
   ],
   "source": [
    "import math\n",
    "r=eval(input('Enter the radius:'))\n",
    "area=r*r*math.pi\n",
    "per=2*r*math.pi\n",
    "print(area)\n",
    "print(per)"
   ]
  },
  {
   "cell_type": "code",
   "execution_count": 19,
   "metadata": {},
   "outputs": [
    {
     "name": "stdout",
     "output_type": "stream",
     "text": [
      "Enter the height:5\n",
      "Enter the weight:2\n",
      "10\n",
      "14\n"
     ]
    }
   ],
   "source": [
    "height=eval(input('Enter the height:'))\n",
    "weight=eval(input('Enter the weight:'))\n",
    "area=height*weight\n",
    "per=(height+weight)*2\n",
    "print(area)\n",
    "print(per)"
   ]
  },
  {
   "cell_type": "code",
   "execution_count": 22,
   "metadata": {},
   "outputs": [
    {
     "name": "stdout",
     "output_type": "stream",
     "text": [
      "Enter the number:2\n",
      "Enter the number:5\n",
      "40.00000000000001\n"
     ]
    }
   ],
   "source": [
    "x=eval(input('Enter the number:'))\n",
    "y=eval(input('Enter the number:'))\n",
    "print((3+4*x)/5-(10*(y-5)*(x+y+5))/x+9*(4/x+(9+x)/y))"
   ]
  },
  {
   "cell_type": "code",
   "execution_count": null,
   "metadata": {},
   "outputs": [],
   "source": []
  },
  {
   "cell_type": "code",
   "execution_count": 2,
   "metadata": {},
   "outputs": [
    {
     "name": "stdout",
     "output_type": "stream",
     "text": [
      "Enter the number:5\n",
      "Enter the number:8\n",
      "Enter the number:9\n",
      "-692.1382257589155\n"
     ]
    }
   ],
   "source": [
    "a=eval(input('Enter the number:'))\n",
    "b=eval(input('Enter the number:'))\n",
    "c=eval(input('Enter the number:'))\n",
    "print(4/(3*(a+34))-9*(a+b*c)+(3+3*(2+a))/(a+3*b))"
   ]
  },
  {
   "cell_type": "code",
   "execution_count": null,
   "metadata": {},
   "outputs": [],
   "source": []
  }
 ],
 "metadata": {
  "kernelspec": {
   "display_name": "Python 3",
   "language": "python",
   "name": "python3"
  }
 },
 "nbformat": 4,
 "nbformat_minor": 2
}
